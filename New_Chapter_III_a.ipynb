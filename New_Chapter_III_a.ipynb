{
 "cells": [
  {
   "cell_type": "markdown",
   "metadata": {},
   "source": [
    "# Why BeautifulSoup is cool\n",
    "(at least, more than you may think) The following code is taken from [here](https://www.dataquest.io/blog/web-scraping-beautifulsoup/)"
   ]
  },
  {
   "cell_type": "markdown",
   "metadata": {},
   "source": [
    "[request](http://docs.python-requests.org/en/master/) permits to get a webpage.\n",
    "[BeautifulSoup](https://www.crummy.com/software/BeautifulSoup/bs4/doc/) navigates it."
   ]
  },
  {
   "cell_type": "code",
   "execution_count": 3,
   "metadata": {},
   "outputs": [],
   "source": [
    "from requests import get\n",
    "from bs4 import BeautifulSoup"
   ]
  },
  {
   "cell_type": "code",
   "execution_count": 4,
   "metadata": {},
   "outputs": [],
   "source": [
    "url = 'http://www.imdb.com/search/title?release_date=2017&sort=num_votes,desc&page=1'"
   ]
  },
  {
   "cell_type": "code",
   "execution_count": 5,
   "metadata": {},
   "outputs": [
    {
     "name": "stdout",
     "output_type": "stream",
     "text": [
      "\n",
      "\n",
      "\n",
      "<!DOCTYPE html>\n",
      "<html\n",
      "    xmlns:og=\"http://ogp.me/ns#\"\n",
      "    xmlns:fb=\"http://www.facebook.com/2008/fbml\">\n",
      "    <head>\n",
      "         \n",
      "        <meta charset=\"utf-8\">\n",
      "        <meta http-equiv=\"X-UA-Compatible\" content=\"IE=edge\">\n",
      "\n",
      "    <meta name=\"apple-itunes-app\" content=\"app-id=342792525, app-argument=imdb:///?src=mdot\">\n",
      "\n",
      "\n",
      "\n",
      "        <script type=\"text/javascript\">var IMDbTimer={starttime: new Date().getTime(),pt:'java'};</script>\n",
      "\n",
      "<script>\n",
      "    if (typeof uet == 'function') {\n",
      "      uet(\"bb\", \"LoadTitle\"\n"
     ]
    }
   ],
   "source": [
    "response = get(url)\n",
    "print response.text[:500]"
   ]
  },
  {
   "cell_type": "code",
   "execution_count": 6,
   "metadata": {},
   "outputs": [],
   "source": [
    "html_soup = BeautifulSoup(response.text, 'html.parser')"
   ]
  },
  {
   "cell_type": "code",
   "execution_count": 7,
   "metadata": {},
   "outputs": [
    {
     "data": {
      "text/plain": [
       "bs4.BeautifulSoup"
      ]
     },
     "execution_count": 7,
     "metadata": {},
     "output_type": "execute_result"
    }
   ],
   "source": [
    "type(html_soup)"
   ]
  },
  {
   "cell_type": "code",
   "execution_count": 8,
   "metadata": {},
   "outputs": [],
   "source": [
    "movie_containers = html_soup.find_all('div', class_ = 'lister-item mode-advanced')"
   ]
  },
  {
   "cell_type": "code",
   "execution_count": 9,
   "metadata": {},
   "outputs": [
    {
     "name": "stdout",
     "output_type": "stream",
     "text": [
      "<class 'bs4.element.ResultSet'>\n",
      "50\n"
     ]
    }
   ],
   "source": [
    "print type(movie_containers)\n",
    "print len(movie_containers)"
   ]
  },
  {
   "cell_type": "code",
   "execution_count": 10,
   "metadata": {},
   "outputs": [
    {
     "data": {
      "text/plain": [
       "<div class=\"lister-item mode-advanced\">\\n<div class=\"lister-top-right\">\\n<div class=\"ribbonize\" data-caller=\"filmosearch\" data-tconst=\"tt3315342\"></div>\\n</div>\\n<div class=\"lister-item-image float-left\">\\n<a href=\"/title/tt3315342/?ref_=adv_li_i\"> <img alt=\"Logan - The Wolverine\" class=\"loadlate\" data-tconst=\"tt3315342\" height=\"98\" loadlate=\"https://m.media-amazon.com/images/M/MV5BYzc5MTU4N2EtYTkyMi00NjdhLTg3NWEtMTY4OTEyMzJhZTAzXkEyXkFqcGdeQXVyNjc1NTYyMjg@._V1_UX67_CR0,0,67,98_AL_.jpg\" src=\"https://m.media-amazon.com/images/G/01/imdb/images/nopicture/large/film-184890147._CB470041630_.png\" width=\"67\"/>\\n</a> </div>\\n<div class=\"lister-item-content\">\\n<h3 class=\"lister-item-header\">\\n<span class=\"lister-item-index unbold text-primary\">1.</span>\\n<a href=\"/title/tt3315342/?ref_=adv_li_tt\">Logan - The Wolverine</a>\\n<span class=\"lister-item-year text-muted unbold\">(2017)</span>\\n</h3>\\n<p class=\"text-muted \">\\n<span class=\"certificate\">VM14</span>\\n<span class=\"ghost\">|</span>\\n<span class=\"runtime\">137 min</span>\\n<span class=\"ghost\">|</span>\\n<span class=\"genre\">\\nAction, Drama, Sci-Fi            </span>\\n</p>\\n<div class=\"ratings-bar\">\\n<div class=\"inline-block ratings-imdb-rating\" data-value=\"8.1\" name=\"ir\">\\n<span class=\"global-sprite rating-star imdb-rating\"></span>\\n<strong>8.1</strong>\\n</div>\\n<div class=\"inline-block ratings-user-rating\">\\n<span class=\"userRatingValue\" data-tconst=\"tt3315342\" id=\"urv_tt3315342\">\\n<span class=\"global-sprite rating-star no-rating\"></span>\\n<span class=\"rate\" data-no-rating=\"Rate this\" data-value=\"0\" name=\"ur\">Rate this</span>\\n</span>\\n<div class=\"starBarWidget\" id=\"sb_tt3315342\">\\n<div class=\"rating rating-list\" data-auth=\"\" data-ga-identifier=\"\" data-starbar-class=\"rating-list\" data-user=\"\" id=\"tt3315342|imdb|8.1|8.1|||search|title\" itemprop=\"aggregateRating\" itemscope=\"\" itemtype=\"http://schema.org/AggregateRating\" title=\"Users rated this 8.1/10 (512,052 votes) - click stars to rate\">\\n<meta content=\"8.1\" itemprop=\"ratingValue\"/>\\n<meta content=\"10\" itemprop=\"bestRating\"/>\\n<meta content=\"512052\" itemprop=\"ratingCount\"/>\\n<span class=\"rating-bg\">\\xa0</span>\\n<span class=\"rating-imdb \" style=\"width: 113.4px\">\\xa0</span>\\n<span class=\"rating-stars\">\\n<a href=\"/register/login?why=vote&amp;ref_=tt_ov_rt\" rel=\"nofollow\" title=\"Register or login to rate this title\"><span>1</span></a>\\n<a href=\"/register/login?why=vote&amp;ref_=tt_ov_rt\" rel=\"nofollow\" title=\"Register or login to rate this title\"><span>2</span></a>\\n<a href=\"/register/login?why=vote&amp;ref_=tt_ov_rt\" rel=\"nofollow\" title=\"Register or login to rate this title\"><span>3</span></a>\\n<a href=\"/register/login?why=vote&amp;ref_=tt_ov_rt\" rel=\"nofollow\" title=\"Register or login to rate this title\"><span>4</span></a>\\n<a href=\"/register/login?why=vote&amp;ref_=tt_ov_rt\" rel=\"nofollow\" title=\"Register or login to rate this title\"><span>5</span></a>\\n<a href=\"/register/login?why=vote&amp;ref_=tt_ov_rt\" rel=\"nofollow\" title=\"Register or login to rate this title\"><span>6</span></a>\\n<a href=\"/register/login?why=vote&amp;ref_=tt_ov_rt\" rel=\"nofollow\" title=\"Register or login to rate this title\"><span>7</span></a>\\n<a href=\"/register/login?why=vote&amp;ref_=tt_ov_rt\" rel=\"nofollow\" title=\"Register or login to rate this title\"><span>8</span></a>\\n<a href=\"/register/login?why=vote&amp;ref_=tt_ov_rt\" rel=\"nofollow\" title=\"Register or login to rate this title\"><span>9</span></a>\\n<a href=\"/register/login?why=vote&amp;ref_=tt_ov_rt\" rel=\"nofollow\" title=\"Register or login to rate this title\"><span>10</span></a>\\n</span>\\n<span class=\"rating-rating \"><span class=\"value\">8.1</span><span class=\"grey\">/</span><span class=\"grey\">10</span></span>\\n<span class=\"rating-cancel \"><a href=\"/title/tt3315342/vote?v=X;k=\" rel=\"nofollow\" title=\"Delete\"><span>X</span></a></span>\\n\\xa0</div>\\n</div>\\n</div>\\n<div class=\"inline-block ratings-metascore\">\\n<span class=\"metascore favorable\">77        </span>\\n        Metascore\\n            </div>\\n</div>\\n<p class=\"text-muted\">\\n    In the near future, a weary Logan cares for an ailing Professor X, somewhere on the Mexican border. However, Logan's attempts to hide from the world, and his legacy, are upended when a young mutant arrives, pursued by dark forces.</p>\\n<p class=\"\">\\n    Director:\\n<a href=\"/name/nm0003506/?ref_=adv_li_dr_0\">James Mangold</a>\\n<span class=\"ghost\">|</span> \\n    Stars:\\n<a href=\"/name/nm0413168/?ref_=adv_li_st_0\">Hugh Jackman</a>, \\n<a href=\"/name/nm0001772/?ref_=adv_li_st_1\">Patrick Stewart</a>, \\n<a href=\"/name/nm6748436/?ref_=adv_li_st_2\">Dafne Keen</a>, \\n<a href=\"/name/nm2933542/?ref_=adv_li_st_3\">Boyd Holbrook</a>\\n</p>\\n<p class=\"sort-num_votes-visible\">\\n<span class=\"text-muted\">Votes:</span>\\n<span data-value=\"512052\" name=\"nv\">512,052</span>\\n<span class=\"ghost\">|</span> <span class=\"text-muted\">Gross:</span>\\n<span data-value=\"226,277,068\" name=\"nv\">$226.28M</span>\\n</p>\\n</div>\\n</div>"
      ]
     },
     "execution_count": 10,
     "metadata": {},
     "output_type": "execute_result"
    }
   ],
   "source": [
    "first_movie = movie_containers[0]\n",
    "first_movie"
   ]
  },
  {
   "cell_type": "markdown",
   "metadata": {},
   "source": [
    "Looking for the title..."
   ]
  },
  {
   "cell_type": "code",
   "execution_count": 12,
   "metadata": {},
   "outputs": [
    {
     "data": {
      "text/plain": [
       "u'Logan - The Wolverine'"
      ]
     },
     "execution_count": 12,
     "metadata": {},
     "output_type": "execute_result"
    }
   ],
   "source": [
    "print first_movie.h3.a.text"
   ]
  },
  {
   "cell_type": "markdown",
   "metadata": {},
   "source": [
    "... the year ..."
   ]
  },
  {
   "cell_type": "code",
   "execution_count": 16,
   "metadata": {},
   "outputs": [
    {
     "name": "stdout",
     "output_type": "stream",
     "text": [
      "(2017)\n"
     ]
    }
   ],
   "source": [
    "print first_movie.h3.find('span', class_ = 'lister-item-year text-muted unbold').text"
   ]
  },
  {
   "cell_type": "markdown",
   "metadata": {},
   "source": [
    "... the idmb rating..."
   ]
  },
  {
   "cell_type": "code",
   "execution_count": 22,
   "metadata": {},
   "outputs": [
    {
     "name": "stdout",
     "output_type": "stream",
     "text": [
      "8.1\n"
     ]
    }
   ],
   "source": [
    "print first_movie.strong.text"
   ]
  },
  {
   "cell_type": "markdown",
   "metadata": {},
   "source": [
    "... the metascore..."
   ]
  },
  {
   "cell_type": "code",
   "execution_count": 23,
   "metadata": {},
   "outputs": [
    {
     "name": "stdout",
     "output_type": "stream",
     "text": [
      "77        \n"
     ]
    }
   ],
   "source": [
    "print first_movie.find('span', class_ = 'metascore favorable').text"
   ]
  },
  {
   "cell_type": "code",
   "execution_count": 24,
   "metadata": {},
   "outputs": [
    {
     "name": "stdout",
     "output_type": "stream",
     "text": [
      "512052\n"
     ]
    }
   ],
   "source": [
    "print first_movie.find('span', attrs = {'name':'nv'})['data-value']"
   ]
  },
  {
   "cell_type": "code",
   "execution_count": 25,
   "metadata": {},
   "outputs": [],
   "source": [
    "names = []\n",
    "years = []\n",
    "imdb_ratings = []\n",
    "metascores = []\n",
    "votes = []\n",
    "\n",
    "# Extract data from individual movie container\n",
    "for container in movie_containers:\n",
    "\n",
    "    # If the movie has Metascore, then extract:\n",
    "    if container.find('div', class_ = 'ratings-metascore') is not None:\n",
    "\n",
    "        # The name\n",
    "        name = container.h3.a.text\n",
    "        names.append(name)\n",
    "\n",
    "        # The year\n",
    "        year = container.h3.find('span', class_ = 'lister-item-year').text\n",
    "        years.append(year)\n",
    "\n",
    "        # The IMDB rating\n",
    "        imdb = float(container.strong.text)\n",
    "        imdb_ratings.append(imdb)\n",
    "\n",
    "        # The Metascore\n",
    "        m_score = container.find('span', class_ = 'metascore').text\n",
    "        metascores.append(int(m_score))\n",
    "\n",
    "        # The number of votes\n",
    "        vote = container.find('span', attrs = {'name':'nv'})['data-value']\n",
    "        votes.append(int(vote))"
   ]
  },
  {
   "cell_type": "code",
   "execution_count": 26,
   "metadata": {},
   "outputs": [
    {
     "ename": "ImportError",
     "evalue": "No module named pandas",
     "output_type": "error",
     "traceback": [
      "\u001b[0;31m---------------------------------------------------------------------------\u001b[0m",
      "\u001b[0;31mImportError\u001b[0m                               Traceback (most recent call last)",
      "\u001b[0;32m<ipython-input-26-6cef9345e1b0>\u001b[0m in \u001b[0;36m<module>\u001b[0;34m()\u001b[0m\n\u001b[0;32m----> 1\u001b[0;31m \u001b[0;32mimport\u001b[0m \u001b[0mpandas\u001b[0m \u001b[0;32mas\u001b[0m \u001b[0mpd\u001b[0m\u001b[0;34m\u001b[0m\u001b[0m\n\u001b[0m\u001b[1;32m      2\u001b[0m \u001b[0;34m\u001b[0m\u001b[0m\n\u001b[1;32m      3\u001b[0m test_df = pd.DataFrame({'movie': names,\n\u001b[1;32m      4\u001b[0m                        \u001b[0;34m'year'\u001b[0m\u001b[0;34m:\u001b[0m \u001b[0myears\u001b[0m\u001b[0;34m,\u001b[0m\u001b[0;34m\u001b[0m\u001b[0m\n\u001b[1;32m      5\u001b[0m                        \u001b[0;34m'imdb'\u001b[0m\u001b[0;34m:\u001b[0m \u001b[0mimdb_ratings\u001b[0m\u001b[0;34m,\u001b[0m\u001b[0;34m\u001b[0m\u001b[0m\n",
      "\u001b[0;31mImportError\u001b[0m: No module named pandas"
     ]
    }
   ],
   "source": [
    "import pandas as pd\n",
    "\n",
    "test_df = pd.DataFrame({'movie': names,\n",
    "                       'year': years,\n",
    "                       'imdb': imdb_ratings,\n",
    "                       'metascore': metascores,\n",
    "                       'votes': votes})"
   ]
  },
  {
   "cell_type": "code",
   "execution_count": null,
   "metadata": {},
   "outputs": [],
   "source": [
    "print(test_df.info())\n",
    "test_df"
   ]
  }
 ],
 "metadata": {
  "kernelspec": {
   "display_name": "Python 2",
   "language": "python",
   "name": "python2"
  },
  "language_info": {
   "codemirror_mode": {
    "name": "ipython",
    "version": 2
   },
   "file_extension": ".py",
   "mimetype": "text/x-python",
   "name": "python",
   "nbconvert_exporter": "python",
   "pygments_lexer": "ipython2",
   "version": "2.7.15"
  },
  "latex_envs": {
   "LaTeX_envs_menu_present": true,
   "autoclose": false,
   "autocomplete": true,
   "bibliofile": "biblio.bib",
   "cite_by": "apalike",
   "current_citInitial": 1,
   "eqLabelWithNumbers": true,
   "eqNumInitial": 1,
   "hotkeys": {
    "equation": "Ctrl-E",
    "itemize": "Ctrl-I"
   },
   "labels_anchors": false,
   "latex_user_defs": false,
   "report_style_numbering": false,
   "user_envs_cfg": false
  },
  "toc": {
   "base_numbering": 1,
   "nav_menu": {},
   "number_sections": false,
   "sideBar": true,
   "skip_h1_title": false,
   "title_cell": "Table of Contents",
   "title_sidebar": "Contents",
   "toc_cell": false,
   "toc_position": {},
   "toc_section_display": true,
   "toc_window_display": true
  }
 },
 "nbformat": 4,
 "nbformat_minor": 2
}
